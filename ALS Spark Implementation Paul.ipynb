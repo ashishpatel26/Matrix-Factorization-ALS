{
 "cells": [
  {
   "cell_type": "code",
   "execution_count": 1,
   "metadata": {
    "collapsed": false
   },
   "outputs": [],
   "source": [
    "import os, sys, numpy as np\n",
    "os.environ['SPARK_HOME']=\"/Users/paulthompson/spark-1.6.1-bin-hadoop2.4\"\n",
    "sys.path.append(\"/Users/paulthompson/spark-1.6.1-bin-hadoop2.4/python/\")\n",
    "from pyspark import SparkConf, SparkContext\n",
    "conf = (SparkConf().setMaster(\"local\").setAppName(\"My app\").set(\"spark.executor.memory\", \"1g\"))\n",
    "from pyspark.sql import SQLContext\n",
    "from pyspark.sql.dataframe import StructType, StructField, IntegerType, FloatType\n",
    "sc = SparkContext(conf = conf)\n",
    "sqlContext = SQLContext(sc)"
   ]
  },
  {
   "cell_type": "code",
   "execution_count": 2,
   "metadata": {
    "collapsed": true
   },
   "outputs": [],
   "source": [
    "mv_ratings = sc.textFile('/Users/paulthompson/Documents/MSAN_Files/Spr2_Distributed/HW1/movies/ratings.txt')"
   ]
  },
  {
   "cell_type": "markdown",
   "metadata": {},
   "source": [
    "### Matrix Factorization Background\n",
    "Start with A matrix with rows = # of users and columns = # items and values = user|item rating. We want to break A into a lower dimension 2 matrix representation: \n",
    "\n",
    "    UserMatrix (dim: nUsers x nfactors) * ItemMatrix (dim: nfactors x nItems)  = A\n",
    "    \n",
    "where nfactors is a chosen integer parameter. Nfactors could be anywhere from 2 to a much larger integer. Larger nfactors leads to larger run times). The idea is that user preferences and item characteristics can be broken down into some number of common factors."
   ]
  },
  {
   "cell_type": "markdown",
   "metadata": {},
   "source": [
    "### Alternating Least Squares (ALS)\n",
    "The ALS method calculates the entries of the user matrix and item matrix by using the matrix version of the least squares regression (with a regularization term) formula to solve for each row in each matrix alternatingly. For more background go to:\n",
    "http://bugra.github.io/work/notes/2014-04-19/alternating-least-squares-method-for-collaborative-filtering/"
   ]
  },
  {
   "cell_type": "code",
   "execution_count": 3,
   "metadata": {
    "collapsed": false
   },
   "outputs": [
    {
     "name": "stdout",
     "output_type": "stream",
     "text": [
      "[(65541, <pyspark.resultiterable.ResultIterable object at 0x106ef4d90>)]\n"
     ]
    }
   ],
   "source": [
    "# Creating sparse representation of A matrix with users as rows and items as columns\n",
    "user_item_ratings = mv_ratings.map(lambda line: (int(line.split(':')[0]), (int(line.split(':')[1]), line.split(':')[2])))\n",
    "user_item_ratings = user_item_ratings.groupByKey()\n",
    "print user_item_ratings.take(1)"
   ]
  },
  {
   "cell_type": "code",
   "execution_count": 4,
   "metadata": {
    "collapsed": false
   },
   "outputs": [
    {
     "name": "stdout",
     "output_type": "stream",
     "text": [
      "[(40964, <pyspark.resultiterable.ResultIterable object at 0x106f0ee90>)]\n"
     ]
    }
   ],
   "source": [
    "# Creating sparse representation of transposed A matrix with items as rows and rows as columns\n",
    "item_user_ratings = mv_ratings.map(lambda line: (int(line.split(':')[1]), (int(line.split(':')[0]), line.split(':')[2])))\n",
    "item_user_ratings = item_user_ratings.groupByKey()\n",
    "print item_user_ratings.take(1)"
   ]
  },
  {
   "cell_type": "code",
   "execution_count": 5,
   "metadata": {
    "collapsed": false
   },
   "outputs": [
    {
     "name": "stdout",
     "output_type": "stream",
     "text": [
      "Number of Items (columns of A matrix): 10677\n",
      "Number of Users (rows of A matrix): 69878\n"
     ]
    }
   ],
   "source": [
    "print \"Number of Items (columns of A matrix):\", item_user_ratings.count()\n",
    "print \"Number of Users (rows of A matrix):\", user_item_ratings.count()"
   ]
  },
  {
   "cell_type": "code",
   "execution_count": 6,
   "metadata": {
    "collapsed": true
   },
   "outputs": [],
   "source": [
    "# User Defined Parameters\n",
    "lambda_ = sc.broadcast(0.1) # Regularization parameter\n",
    "n_factors = sc.broadcast(3) # nfactors of User matrix and Item matrix\n",
    "n_iterations = 20 # How many times to iterate over the user and item matrix calculations."
   ]
  },
  {
   "cell_type": "code",
   "execution_count": 7,
   "metadata": {
    "collapsed": true
   },
   "outputs": [],
   "source": [
    "# Initizializing Items Matrix (User matrix doesn't need to be initialized since it is solved for first):\n",
    "Items = item_user_ratings.map(lambda line: (line[0], 5 * np.random.rand(1, n_factors.value)))"
   ]
  },
  {
   "cell_type": "code",
   "execution_count": 8,
   "metadata": {
    "collapsed": false
   },
   "outputs": [
    {
     "name": "stdout",
     "output_type": "stream",
     "text": [
      "[(40964, array([[ 2.10237545,  2.92632156,  4.53418413]])), (8197, array([[ 2.06417651,  2.77285996,  0.99374318]])), (7, array([[ 2.77878313,  2.60483127,  4.1951319 ]])), (32781, array([[ 1.27154652,  1.57228388,  2.67777938]])), (14, array([[ 2.62251806,  2.08303676,  1.74662785]])), (21, array([[ 2.77898971,  3.59659248,  1.77365023]])), (28, array([[ 2.37920355,  3.96306217,  2.98380573]])), (8225, array([[ 1.27728752,  1.67007072,  2.31082087]])), (35, array([[ 1.79566971,  4.9938116 ,  3.69281481]])), (8232, array([[ 4.02286348,  1.02475063,  2.45012427]]))]\n"
     ]
    }
   ],
   "source": [
    "print Items.take(10)"
   ]
  },
  {
   "cell_type": "code",
   "execution_count": 9,
   "metadata": {
    "collapsed": true
   },
   "outputs": [],
   "source": [
    "# The item matrix is needed in all partitions when solving for rows of User matrix individually\n",
    "Items_broadcast = sc.broadcast({\n",
    "  k: v for (k, v) in Items.collect()\n",
    "})"
   ]
  },
  {
   "cell_type": "code",
   "execution_count": 10,
   "metadata": {
    "collapsed": false
   },
   "outputs": [
    {
     "name": "stdout",
     "output_type": "stream",
     "text": [
      "1 [[ 0.62579674  2.58610988  4.70051704]]\n",
      "2 [[ 3.5604129   1.83881324  3.89177802]]\n",
      "3 [[ 4.22688547  4.72155475  3.53695258]]\n",
      "4 [[ 3.7802607   0.75787422  3.62126939]]\n",
      "5 [[ 0.0843198   1.07852023  2.37622072]]\n",
      "6 [[ 4.12389119  4.05307618  4.54544272]]\n",
      "7 [[ 1.62389601  3.14315122  2.51636905]]\n",
      "8 [[ 4.74227848  4.2887011   3.03817062]]\n",
      "9 [[ 3.13062674  3.20355597  4.2367267 ]]\n",
      "10 [[ 0.99020206  3.35375568  1.06835584]]\n",
      "11 [[ 4.3365692   2.64394156  0.66348743]]\n"
     ]
    }
   ],
   "source": [
    "j = 0\n",
    "for k, v in {k: v for (k, v) in Items.collect()}.iteritems():\n",
    "    print k, v\n",
    "    j+=1\n",
    "    if j > 10:\n",
    "        break"
   ]
  },
  {
   "cell_type": "code",
   "execution_count": 11,
   "metadata": {
    "collapsed": false
   },
   "outputs": [
    {
     "name": "stdout",
     "output_type": "stream",
     "text": [
      "(176, u'5')\n",
      "(260, u'5')\n",
      "(541, u'5')\n",
      "(1060, u'5')\n",
      "(1073, u'3')\n",
      "(1077, u'4')\n",
      "(1093, u'5')\n",
      "(1136, u'5')\n",
      "(1196, u'5')\n",
      "(1197, u'4')\n",
      "(1220, u'5')\n"
     ]
    }
   ],
   "source": [
    "j = 0\n",
    "for i in user_item_ratings.take(1)[0][1]:\n",
    "    print i\n",
    "    j+=1\n",
    "    if j > 10:\n",
    "        break"
   ]
  },
  {
   "cell_type": "markdown",
   "metadata": {},
   "source": [
    "#### ALS User matrix row calculation\n",
    "    Users[i] = inverse(Items*Items^T + I*lambda) * Items * A[i]^T\n",
    "Where only rows of item matrix for which user i has ratings are operated upon."
   ]
  },
  {
   "cell_type": "code",
   "execution_count": 12,
   "metadata": {
    "collapsed": false
   },
   "outputs": [],
   "source": [
    "def Update_User(userTuple):\n",
    "    '''\n",
    "    This function calculates (userID, Users[i]) using:\n",
    "        'Users[i] = inverse(Items*Items^T + I*lambda) * Items * A[i]^T'\n",
    "    Dot product calculations are done differently than normal to allow for sparsity. Rather \n",
    "    than row of left matrix times column of right matrix, sum result of column of left matrix  \n",
    "    * rows of right matrix (skipping items for which user doesn't have a rating).\n",
    "    '''\n",
    "    Itemssquare = np.zeros([n_factors.value,n_factors.value])\n",
    "    for matrixA_item_Tuple in userTuple[1]:\n",
    "        itemRow = Items_broadcast.value[matrixA_item_Tuple[0]][0]\n",
    "        for i in range(n_factors.value):\n",
    "            for j in range(n_factors.value):\n",
    "                Itemssquare[i,j] += float(itemRow[i]) * float(itemRow[j])\n",
    "    leftMatrix = np.linalg.inv(Itemssquare + lambda_.value * np.eye(n_factors.value))\n",
    "    rightMatrix = np.zeros([1,n_factors.value])\n",
    "    for matrixA_item_Tuple in userTuple[1]:\n",
    "        for i in range(n_factors.value):\n",
    "            rightMatrix[0][i] += Items_broadcast.value[matrixA_item_Tuple[0]][0][i] * float(matrixA_item_Tuple[1])\n",
    "    newUserRow = np.dot(leftMatrix, rightMatrix.T).T\n",
    "    return (userTuple[0], newUserRow)\n"
   ]
  },
  {
   "cell_type": "code",
   "execution_count": 13,
   "metadata": {
    "collapsed": false
   },
   "outputs": [],
   "source": [
    "Users = user_item_ratings.map(Update_User)"
   ]
  },
  {
   "cell_type": "code",
   "execution_count": 14,
   "metadata": {
    "collapsed": false
   },
   "outputs": [
    {
     "name": "stdout",
     "output_type": "stream",
     "text": [
      "[(65541, array([[ 0.00258184,  0.00211084,  0.00264371]]))]\n"
     ]
    }
   ],
   "source": [
    "print Users.take(1)"
   ]
  },
  {
   "cell_type": "code",
   "execution_count": null,
   "metadata": {
    "collapsed": true
   },
   "outputs": [],
   "source": [
    "# The item matrix is needed in all partitions when solving for rows of User matrix individually\n",
    "Users_broadcast = sc.broadcast({\n",
    "  k: v for (k, v) in Users.collect()\n",
    "})"
   ]
  },
  {
   "cell_type": "code",
   "execution_count": null,
   "metadata": {
    "collapsed": true
   },
   "outputs": [],
   "source": [
    "def Update_Item(itemTuple):\n",
    "    '''\n",
    "    This function calculates (userID, Users[i]) using:\n",
    "        'Users[i] = inverse(Items*Items^T + I*lambda) * Items * A[i]^T'\n",
    "    Dot product calculations are done differently than normal to allow for sparsity. Rather \n",
    "    than row of left matrix times column of right matrix, sum result of column of left matrix  \n",
    "    * rows of right matrix (skipping items for which user doesn't have a rating).\n",
    "    '''\n",
    "    Userssquare = np.zeros([n_factors.value,n_factors.value])\n",
    "    for matrixA_user_Tuple in itemTuple[1]:\n",
    "        userRow = Users_broadcast.value[matrixA_user_Tuple[0]][0]\n",
    "        for i in range(n_factors.value):\n",
    "            for j in range(n_factors.value):\n",
    "                Userssquare[i,j] += float(userRow[i]) * float(userRow[j])\n",
    "    leftMatrix = np.linalg.inv(Userssquare + lambda_.value * np.eye(n_factors.value))\n",
    "    rightMatrix = np.zeros([1,n_factors.value])\n",
    "    for matrixA_user_Tuple in itemTuple[1]:\n",
    "        for i in range(n_factors.value):\n",
    "            rightMatrix[0][i] += Users_broadcast.value[matrixA_user_Tuple[0]][0][i] * float(matrixA_user_Tuple[1])\n",
    "    newItemRow = np.dot(leftMatrix, rightMatrix.T).T\n",
    "    return (itemTuple[0], newItemRow)"
   ]
  },
  {
   "cell_type": "code",
   "execution_count": null,
   "metadata": {
    "collapsed": true
   },
   "outputs": [],
   "source": [
    "Items = item_user_ratings.map(Update_Item)"
   ]
  },
  {
   "cell_type": "code",
   "execution_count": null,
   "metadata": {
    "collapsed": true
   },
   "outputs": [],
   "source": [
    "print Items.take(1)"
   ]
  },
  {
   "cell_type": "code",
   "execution_count": null,
   "metadata": {
    "collapsed": true
   },
   "outputs": [],
   "source": [
    "Items_broadcast = sc.broadcast({\n",
    "  k: v for (k, v) in Items.collect()\n",
    "})"
   ]
  },
  {
   "cell_type": "code",
   "execution_count": null,
   "metadata": {
    "collapsed": true
   },
   "outputs": [],
   "source": [
    "def getRowSumSquares(userTuple):\n",
    "    userRow = Users_broadcast.value[userTuple[0]]\n",
    "    rowSSE = 0.0\n",
    "    for matrixA_item_Tuple in userTuple[1]:\n",
    "        predictedRating = 0.0\n",
    "        for i in range(n_factors.value):\n",
    "            predictedRating += userRow[0][i] * Items_broadcast.value[matrixA_item_Tuple[0]][0][i]\n",
    "        SE = (float(matrixA_item_Tuple[1]) - predictedRating) ** 2\n",
    "        rowSSE += SE\n",
    "    return rowSSE\n",
    "\n",
    "        "
   ]
  },
  {
   "cell_type": "code",
   "execution_count": null,
   "metadata": {
    "collapsed": true
   },
   "outputs": [],
   "source": [
    "SSE = user_item_ratings.map(getRowSumSquares).reduce(lambda a, b: a + b)\n",
    "Count = mv_ratings.count()\n",
    "MSE = SSE / Count\n",
    "print \"MSE:\", MSE\n"
   ]
  },
  {
   "cell_type": "code",
   "execution_count": null,
   "metadata": {
    "collapsed": true
   },
   "outputs": [],
   "source": [
    "for iter in range(n_iterations):\n",
    "    Users = user_item_ratings.map(Update_User)\n",
    "    Users_broadcast = sc.broadcast({k: v for (k, v) in Users.collect()})\n",
    "    Items = item_user_ratings.map(Update_Item)\n",
    "    Items_broadcast = sc.broadcast({k: v for (k, v) in Items.collect()})\n",
    "    SSE = user_item_ratings.map(getRowSumSquares).reduce(lambda a, b: a + b)\n",
    "    MSE = SSE / Count\n",
    "    print \"MSE:\", MSE"
   ]
  },
  {
   "cell_type": "code",
   "execution_count": null,
   "metadata": {
    "collapsed": true
   },
   "outputs": [],
   "source": []
  }
 ],
 "metadata": {
  "kernelspec": {
   "display_name": "Python 2",
   "language": "python",
   "name": "python2"
  },
  "language_info": {
   "codemirror_mode": {
    "name": "ipython",
    "version": 2
   },
   "file_extension": ".py",
   "mimetype": "text/x-python",
   "name": "python",
   "nbconvert_exporter": "python",
   "pygments_lexer": "ipython2",
   "version": "2.7.10"
  }
 },
 "nbformat": 4,
 "nbformat_minor": 0
}
