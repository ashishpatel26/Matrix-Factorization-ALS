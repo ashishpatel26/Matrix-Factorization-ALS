{
 "cells": [
  {
   "cell_type": "code",
   "execution_count": 1,
   "metadata": {
    "collapsed": true
   },
   "outputs": [],
   "source": [
    "import os, sys, numpy as np\n",
    "os.environ['SPARK_HOME']=\"/Users/paulthompson/spark-1.6.1-bin-hadoop2.4\"\n",
    "sys.path.append(\"/Users/paulthompson/spark-1.6.1-bin-hadoop2.4/python/\")\n",
    "from pyspark import SparkConf, SparkContext\n",
    "conf = (SparkConf().setMaster(\"local\").setAppName(\"My app\").set(\"spark.executor.memory\", \"1g\"))\n",
    "from pyspark.sql import SQLContext\n",
    "from pyspark.sql.dataframe import StructType, StructField, IntegerType, FloatType\n",
    "sc = SparkContext(conf = conf)\n",
    "sqlContext = SQLContext(sc)"
   ]
  },
  {
   "cell_type": "code",
   "execution_count": 2,
   "metadata": {
    "collapsed": true
   },
   "outputs": [],
   "source": [
    "mv_ratings = sc.textFile('/Users/paulthompson/Documents/MSAN_Files/Spr2_Distributed/HW1/movies/ratings.txt')"
   ]
  },
  {
   "cell_type": "code",
   "execution_count": 3,
   "metadata": {
    "collapsed": true
   },
   "outputs": [],
   "source": [
    "user_item_ratings = mv_ratings.map(lambda line: (line.split(':')[0], (line.split(':')[1], line.split(':')[2])))\n",
    "user_item_ratings = user_item_ratings.groupByKey()"
   ]
  },
  {
   "cell_type": "code",
   "execution_count": 4,
   "metadata": {
    "collapsed": true
   },
   "outputs": [],
   "source": [
    "item_user_ratings = mv_ratings.map(lambda line: (line.split(':')[1], (line.split(':')[0], line.split(':')[2])))\n",
    "item_user_ratings = item_user_ratings.groupByKey()"
   ]
  },
  {
   "cell_type": "code",
   "execution_count": 15,
   "metadata": {
    "collapsed": true
   },
   "outputs": [],
   "source": [
    "lambda_ = 0.1; n_factors = 3; n_iterations = 20"
   ]
  },
  {
   "cell_type": "code",
   "execution_count": 6,
   "metadata": {
    "collapsed": true
   },
   "outputs": [],
   "source": [
    "Users = user_item_ratings.map(lambda line: (line[0][0], 5 * np.random.rand(1, n_factors)))\n",
    "Items = item_user_ratings.map(lambda line: (line[0][0], 5 * np.random.rand(1, n_factors)))"
   ]
  },
  {
   "cell_type": "code",
   "execution_count": 7,
   "metadata": {
    "collapsed": false
   },
   "outputs": [
    {
     "name": "stdout",
     "output_type": "stream",
     "text": [
      "[(u'6', array([[ 1.76099363,  0.44535205,  2.34266234]])), (u'4', array([[ 1.10675171,  2.00015634,  4.7637379 ]])), (u'5', array([[ 1.88378986,  2.29429409,  4.53671826]])), (u'2', array([[ 3.01522963,  3.65414647,  4.30972223]])), (u'5', array([[ 4.18950143,  0.81001435,  3.89523736]])), (u'3', array([[ 2.55368139,  2.24010961,  3.91618921]])), (u'3', array([[ 0.24647697,  1.94724627,  2.0248009 ]])), (u'3', array([[ 2.30765205,  0.88326048,  1.1351706 ]])), (u'3', array([[ 3.35541701,  0.14301716,  1.06858676]])), (u'3', array([[ 4.85158368,  1.27097163,  4.74590465]]))]\n"
     ]
    }
   ],
   "source": [
    "print Items.take(10)"
   ]
  },
  {
   "cell_type": "code",
   "execution_count": 8,
   "metadata": {
    "collapsed": true
   },
   "outputs": [],
   "source": [
    "Items_broadcast = sc.broadcast({\n",
    "  k: v for (k, v) in Items.collect()\n",
    "})"
   ]
  },
  {
   "cell_type": "code",
   "execution_count": 10,
   "metadata": {
    "collapsed": false
   },
   "outputs": [
    {
     "name": "stdout",
     "output_type": "stream",
     "text": [
      "1 [[ 1.39407107  0.01353967  1.79493675]]\n",
      "3 [[ 1.65094866  1.85772861  2.68837578]]\n",
      "2 [[ 1.18634226  0.22802199  2.38712183]]\n",
      "5 [[ 4.20489393  4.89298562  2.87135711]]\n",
      "4 [[ 2.6610737   3.17496804  1.60279449]]\n",
      "7 [[ 0.53475988  0.68879375  4.72762786]]\n",
      "6 [[ 2.34837859  3.28342059  2.97283678]]\n",
      "9 [[ 3.05060587  1.92404819  1.22090204]]\n",
      "8 [[ 0.48339076  2.4826844   2.72024888]]\n"
     ]
    }
   ],
   "source": [
    "j = 0\n",
    "for k, v in {k: v for (k, v) in Items.collect()}.iteritems():\n",
    "    print k, v\n",
    "    j+=1\n",
    "    if j > 10:\n",
    "        break"
   ]
  },
  {
   "cell_type": "code",
   "execution_count": 16,
   "metadata": {
    "collapsed": false
   },
   "outputs": [
    {
     "name": "stdout",
     "output_type": "stream",
     "text": [
      "[(u'5', (array([[ 2.30765205,  0.88326048,  1.1351706 ]]), <pyspark.resultiterable.ResultIterable object at 0x10439cfd0>)), (u'5', (array([[ 3.35541701,  0.14301716,  1.06858676]]), <pyspark.resultiterable.ResultIterable object at 0x10439c750>))]\n"
     ]
    }
   ],
   "source": [
    "joint_U_A = Users.join(user_item_ratings)\n",
    "print joint_U_A.take(2)"
   ]
  },
  {
   "cell_type": "code",
   "execution_count": 14,
   "metadata": {
    "collapsed": false
   },
   "outputs": [],
   "source": [
    "def Update_U_A(jointTuple, items_broadcast):\n",
    "    Itemssquare = np.zeros([3,3])\n",
    "    for k, v in {k: v for (k, v) in Items.collect()}.iteritems():\n",
    "        for i in Itemssquare.shape[0]:\n",
    "            for j in Itemssquare.shape[1]:\n",
    "                Itemssquare[i,j] += v[0][i]*v[0][j]\n",
    "    \n",
    "    \n",
    "    \n",
    "    \n",
    "    \n",
    "    \n",
    "    \n",
    "    \n",
    "    "
   ]
  },
  {
   "cell_type": "code",
   "execution_count": null,
   "metadata": {
    "collapsed": true
   },
   "outputs": [],
   "source": [
    "# Users = joint_U_A.map(Update_U_A())"
   ]
  }
 ],
 "metadata": {
  "kernelspec": {
   "display_name": "Python 2",
   "language": "python",
   "name": "python2"
  },
  "language_info": {
   "codemirror_mode": {
    "name": "ipython",
    "version": 2
   },
   "file_extension": ".py",
   "mimetype": "text/x-python",
   "name": "python",
   "nbconvert_exporter": "python",
   "pygments_lexer": "ipython2",
   "version": "2.7.10"
  }
 },
 "nbformat": 4,
 "nbformat_minor": 0
}
